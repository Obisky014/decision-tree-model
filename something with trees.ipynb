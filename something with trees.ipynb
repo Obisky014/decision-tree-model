{
 "cells": [
  {
   "cell_type": "code",
   "execution_count": 2,
   "id": "6afb0e60-2361-4ad3-89fe-ceea207e6ad7",
   "metadata": {},
   "outputs": [],
   "source": [
    "# importing necessary libraries\n",
    "import pandas as pd\n",
    "import numpy as np\n",
    "from sklearn.model_selection import train_test_split\n",
    "from sklearn.tree import DecisionTreeClassifier, plot_tree\n",
    "from sklearn.metrics import accuracy_score, confusion_matrix\n",
    "from sklearn.preprocessing import LabelEncoder\n",
    "import matplotlib.pyplot as plt\n",
    "import seaborn as sns\n",
    "from sklearn.tree import export_graphviz"
   ]
  },
  {
   "cell_type": "code",
   "execution_count": 3,
   "id": "1e530276-6c50-4416-90ed-52d7a8cefcf2",
   "metadata": {},
   "outputs": [
    {
     "data": {
      "text/html": [
       "<div>\n",
       "<style scoped>\n",
       "    .dataframe tbody tr th:only-of-type {\n",
       "        vertical-align: middle;\n",
       "    }\n",
       "\n",
       "    .dataframe tbody tr th {\n",
       "        vertical-align: top;\n",
       "    }\n",
       "\n",
       "    .dataframe thead th {\n",
       "        text-align: right;\n",
       "    }\n",
       "</style>\n",
       "<table border=\"1\" class=\"dataframe\">\n",
       "  <thead>\n",
       "    <tr style=\"text-align: right;\">\n",
       "      <th></th>\n",
       "      <th>Age</th>\n",
       "      <th>Income</th>\n",
       "      <th>Marital_Status</th>\n",
       "      <th>Credit_Score</th>\n",
       "      <th>Defaulted</th>\n",
       "    </tr>\n",
       "  </thead>\n",
       "  <tbody>\n",
       "    <tr>\n",
       "      <th>0</th>\n",
       "      <td>25.0</td>\n",
       "      <td>50000</td>\n",
       "      <td>Single</td>\n",
       "      <td>720</td>\n",
       "      <td>0.0</td>\n",
       "    </tr>\n",
       "    <tr>\n",
       "      <th>1</th>\n",
       "      <td>34.0</td>\n",
       "      <td>NaN</td>\n",
       "      <td>Married</td>\n",
       "      <td>680</td>\n",
       "      <td>1.0</td>\n",
       "    </tr>\n",
       "    <tr>\n",
       "      <th>2</th>\n",
       "      <td>28.0</td>\n",
       "      <td>62K</td>\n",
       "      <td>Single</td>\n",
       "      <td>NaN</td>\n",
       "      <td>0.0</td>\n",
       "    </tr>\n",
       "    <tr>\n",
       "      <th>3</th>\n",
       "      <td>45.0</td>\n",
       "      <td>72000</td>\n",
       "      <td>NaN</td>\n",
       "      <td>800</td>\n",
       "      <td>0.0</td>\n",
       "    </tr>\n",
       "    <tr>\n",
       "      <th>4</th>\n",
       "      <td>NaN</td>\n",
       "      <td>55000</td>\n",
       "      <td>Divorced</td>\n",
       "      <td>650</td>\n",
       "      <td>NaN</td>\n",
       "    </tr>\n",
       "  </tbody>\n",
       "</table>\n",
       "</div>"
      ],
      "text/plain": [
       "    Age Income Marital_Status Credit_Score  Defaulted\n",
       "0  25.0  50000         Single          720        0.0\n",
       "1  34.0    NaN        Married          680        1.0\n",
       "2  28.0    62K         Single          NaN        0.0\n",
       "3  45.0  72000            NaN          800        0.0\n",
       "4   NaN  55000       Divorced          650        NaN"
      ]
     },
     "execution_count": 3,
     "metadata": {},
     "output_type": "execute_result"
    }
   ],
   "source": [
    "#load the dataset\n",
    "df = pd.read_csv(\"C:/Users/stanl/Downloads/dirty_decision_tree_dataset.csv\")\n",
    "df.head()"
   ]
  },
  {
   "cell_type": "code",
   "execution_count": 4,
   "id": "664d0ff3-830a-44e4-9135-c4364fa8ffeb",
   "metadata": {},
   "outputs": [
    {
     "data": {
      "text/plain": [
       "Age               2\n",
       "Income            3\n",
       "Marital_Status    2\n",
       "Credit_Score      3\n",
       "Defaulted         2\n",
       "dtype: int64"
      ]
     },
     "execution_count": 4,
     "metadata": {},
     "output_type": "execute_result"
    }
   ],
   "source": [
    "#check out missing values\n",
    "missing_values_loc = df.isnull().sum()\n",
    "missing_values_loc"
   ]
  },
  {
   "cell_type": "code",
   "execution_count": 5,
   "id": "9c9faa43-dffe-4eb0-9bee-f82d4a92d784",
   "metadata": {},
   "outputs": [
    {
     "data": {
      "text/plain": [
       "Age               True\n",
       "Income            True\n",
       "Marital_Status    True\n",
       "Credit_Score      True\n",
       "Defaulted         True\n",
       "dtype: bool"
      ]
     },
     "execution_count": 5,
     "metadata": {},
     "output_type": "execute_result"
    }
   ],
   "source": [
    "# another way of checking the missing values\n",
    "missing_total = df.isna().any()\n",
    "missing_total"
   ]
  },
  {
   "cell_type": "code",
   "execution_count": 6,
   "id": "21d6ddf6-f626-4920-8a53-26494f4eafa2",
   "metadata": {},
   "outputs": [
    {
     "name": "stdout",
     "output_type": "stream",
     "text": [
      "<class 'pandas.core.frame.DataFrame'>\n",
      "RangeIndex: 10 entries, 0 to 9\n",
      "Data columns (total 5 columns):\n",
      " #   Column          Non-Null Count  Dtype  \n",
      "---  ------          --------------  -----  \n",
      " 0   Age             8 non-null      float64\n",
      " 1   Income          7 non-null      object \n",
      " 2   Marital_Status  8 non-null      object \n",
      " 3   Credit_Score    7 non-null      object \n",
      " 4   Defaulted       8 non-null      float64\n",
      "dtypes: float64(2), object(3)\n",
      "memory usage: 532.0+ bytes\n"
     ]
    }
   ],
   "source": [
    "# general info\n",
    "df.info()"
   ]
  },
  {
   "cell_type": "code",
   "execution_count": 7,
   "id": "d2e4957b-35f4-4c82-8bb0-96eef06e3963",
   "metadata": {},
   "outputs": [],
   "source": [
    "# dropping all the empty columns\n",
    "df = df.dropna()"
   ]
  },
  {
   "cell_type": "code",
   "execution_count": 8,
   "id": "024f0ba4-c158-4d37-9c4b-c1dd5f4cebfd",
   "metadata": {},
   "outputs": [],
   "source": [
    "# Fixing Incorrect Data Types\n",
    "df[\"Income\"] = pd.to_numeric(df[\"Income\"], errors='coerce')  # Convert to numeric\n",
    "df[\"Credit_Score\"] = pd.to_numeric(df[\"Credit_Score\"], errors='coerce')\n",
    "df = df.dropna()  # Drop rows again after fixing types"
   ]
  },
  {
   "cell_type": "code",
   "execution_count": 9,
   "id": "1280b3b6-28b3-46c0-8bb4-ef1f29a883f5",
   "metadata": {},
   "outputs": [],
   "source": [
    "# Encode Categorical Variables (Marital_Status)\n",
    "df[\"Marital_Status\"] = df[\"Marital_Status\"].astype(\"category\").cat.codes"
   ]
  },
  {
   "cell_type": "code",
   "execution_count": null,
   "id": "d6a2741c-4f21-4636-90e1-6c2c42553582",
   "metadata": {},
   "outputs": [],
   "source": []
  }
 ],
 "metadata": {
  "kernelspec": {
   "display_name": "Python 3 (ipykernel)",
   "language": "python",
   "name": "python3"
  },
  "language_info": {
   "codemirror_mode": {
    "name": "ipython",
    "version": 3
   },
   "file_extension": ".py",
   "mimetype": "text/x-python",
   "name": "python",
   "nbconvert_exporter": "python",
   "pygments_lexer": "ipython3",
   "version": "3.12.7"
  }
 },
 "nbformat": 4,
 "nbformat_minor": 5
}
